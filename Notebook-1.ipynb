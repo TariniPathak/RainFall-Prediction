{
 "cells": [
  {
   "cell_type": "markdown",
   "id": "c69b44af-888c-4b52-80b0-87768ca33f00",
   "metadata": {},
   "source": [
    "# Rainfall Prediction Analysis 🌧\n",
    "# --------------------------------------------------------------------------------\n",
    "Hey there! I'm Tarini Pathak, currently studying B.Tech CSE at Bennett University.\n",
    "Coming from Jabalpur, MP, where unpredictable monsoons often disrupt daily life, \n",
    "I have personally seen how rainfall affects agriculture, transportation, and city life.\n",
    "Now, living in Greater Noida, the contrast is clear—here, rains are less frequent, \n",
    "but the urban infrastructure faces massive waterlogging issues whenever it pours.\n",
    "\n",
    "This project is my attempt to better understand rainfall patterns by analyzing \n",
    "an Australian dataset, applying data science techniques, and sharpening my \n",
    "machine learning skills. Let’s get started! "
   ]
  },
  {
   "cell_type": "markdown",
   "id": "a83e039d-52a8-4949-ae81-c849f07ba7fb",
   "metadata": {},
   "source": [
    "# Step1: Initial Data Exploration: "
   ]
  },
  {
   "cell_type": "markdown",
   "id": "beaa56c2-ec60-46c4-95b0-2ec438bbce16",
   "metadata": {},
   "source": [
    "### Step1: Importing the libraries"
   ]
  },
  {
   "cell_type": "code",
   "execution_count": 7,
   "id": "4f78935e-7b47-47db-ac8c-6f3aee634370",
   "metadata": {},
   "outputs": [],
   "source": [
    "import pandas as pd\n",
    "import numpy as np"
   ]
  },
  {
   "cell_type": "markdown",
   "id": "a5f3aca2-ab3c-4f2a-8bbd-44205181fb9f",
   "metadata": {},
   "source": [
    "### Step2: Loading the dataset"
   ]
  },
  {
   "cell_type": "code",
   "execution_count": 10,
   "id": "8c29b3c8-00cf-494a-868d-7748d3c2e5da",
   "metadata": {},
   "outputs": [
    {
     "data": {
      "text/html": [
       "<div>\n",
       "<style scoped>\n",
       "    .dataframe tbody tr th:only-of-type {\n",
       "        vertical-align: middle;\n",
       "    }\n",
       "\n",
       "    .dataframe tbody tr th {\n",
       "        vertical-align: top;\n",
       "    }\n",
       "\n",
       "    .dataframe thead th {\n",
       "        text-align: right;\n",
       "    }\n",
       "</style>\n",
       "<table border=\"1\" class=\"dataframe\">\n",
       "  <thead>\n",
       "    <tr style=\"text-align: right;\">\n",
       "      <th></th>\n",
       "      <th>Date</th>\n",
       "      <th>Location</th>\n",
       "      <th>MinTemp</th>\n",
       "      <th>MaxTemp</th>\n",
       "      <th>Rainfall</th>\n",
       "      <th>Evaporation</th>\n",
       "      <th>Sunshine</th>\n",
       "      <th>WindGustDir</th>\n",
       "      <th>WindGustSpeed</th>\n",
       "      <th>WindDir9am</th>\n",
       "      <th>...</th>\n",
       "      <th>Humidity3pm</th>\n",
       "      <th>Pressure9am</th>\n",
       "      <th>Pressure3pm</th>\n",
       "      <th>Cloud9am</th>\n",
       "      <th>Cloud3pm</th>\n",
       "      <th>Temp9am</th>\n",
       "      <th>Temp3pm</th>\n",
       "      <th>RainToday</th>\n",
       "      <th>RISK_MM</th>\n",
       "      <th>RainTomorrow</th>\n",
       "    </tr>\n",
       "  </thead>\n",
       "  <tbody>\n",
       "    <tr>\n",
       "      <th>0</th>\n",
       "      <td>2008-12-01</td>\n",
       "      <td>Albury</td>\n",
       "      <td>13.4</td>\n",
       "      <td>22.9</td>\n",
       "      <td>0.6</td>\n",
       "      <td>NaN</td>\n",
       "      <td>NaN</td>\n",
       "      <td>W</td>\n",
       "      <td>44.0</td>\n",
       "      <td>W</td>\n",
       "      <td>...</td>\n",
       "      <td>22.0</td>\n",
       "      <td>1007.7</td>\n",
       "      <td>1007.1</td>\n",
       "      <td>8.0</td>\n",
       "      <td>NaN</td>\n",
       "      <td>16.9</td>\n",
       "      <td>21.8</td>\n",
       "      <td>No</td>\n",
       "      <td>0.0</td>\n",
       "      <td>No</td>\n",
       "    </tr>\n",
       "    <tr>\n",
       "      <th>1</th>\n",
       "      <td>2008-12-02</td>\n",
       "      <td>Albury</td>\n",
       "      <td>7.4</td>\n",
       "      <td>25.1</td>\n",
       "      <td>0.0</td>\n",
       "      <td>NaN</td>\n",
       "      <td>NaN</td>\n",
       "      <td>WNW</td>\n",
       "      <td>44.0</td>\n",
       "      <td>NNW</td>\n",
       "      <td>...</td>\n",
       "      <td>25.0</td>\n",
       "      <td>1010.6</td>\n",
       "      <td>1007.8</td>\n",
       "      <td>NaN</td>\n",
       "      <td>NaN</td>\n",
       "      <td>17.2</td>\n",
       "      <td>24.3</td>\n",
       "      <td>No</td>\n",
       "      <td>0.0</td>\n",
       "      <td>No</td>\n",
       "    </tr>\n",
       "    <tr>\n",
       "      <th>2</th>\n",
       "      <td>2008-12-03</td>\n",
       "      <td>Albury</td>\n",
       "      <td>12.9</td>\n",
       "      <td>25.7</td>\n",
       "      <td>0.0</td>\n",
       "      <td>NaN</td>\n",
       "      <td>NaN</td>\n",
       "      <td>WSW</td>\n",
       "      <td>46.0</td>\n",
       "      <td>W</td>\n",
       "      <td>...</td>\n",
       "      <td>30.0</td>\n",
       "      <td>1007.6</td>\n",
       "      <td>1008.7</td>\n",
       "      <td>NaN</td>\n",
       "      <td>2.0</td>\n",
       "      <td>21.0</td>\n",
       "      <td>23.2</td>\n",
       "      <td>No</td>\n",
       "      <td>0.0</td>\n",
       "      <td>No</td>\n",
       "    </tr>\n",
       "    <tr>\n",
       "      <th>3</th>\n",
       "      <td>2008-12-04</td>\n",
       "      <td>Albury</td>\n",
       "      <td>9.2</td>\n",
       "      <td>28.0</td>\n",
       "      <td>0.0</td>\n",
       "      <td>NaN</td>\n",
       "      <td>NaN</td>\n",
       "      <td>NE</td>\n",
       "      <td>24.0</td>\n",
       "      <td>SE</td>\n",
       "      <td>...</td>\n",
       "      <td>16.0</td>\n",
       "      <td>1017.6</td>\n",
       "      <td>1012.8</td>\n",
       "      <td>NaN</td>\n",
       "      <td>NaN</td>\n",
       "      <td>18.1</td>\n",
       "      <td>26.5</td>\n",
       "      <td>No</td>\n",
       "      <td>1.0</td>\n",
       "      <td>No</td>\n",
       "    </tr>\n",
       "    <tr>\n",
       "      <th>4</th>\n",
       "      <td>2008-12-05</td>\n",
       "      <td>Albury</td>\n",
       "      <td>17.5</td>\n",
       "      <td>32.3</td>\n",
       "      <td>1.0</td>\n",
       "      <td>NaN</td>\n",
       "      <td>NaN</td>\n",
       "      <td>W</td>\n",
       "      <td>41.0</td>\n",
       "      <td>ENE</td>\n",
       "      <td>...</td>\n",
       "      <td>33.0</td>\n",
       "      <td>1010.8</td>\n",
       "      <td>1006.0</td>\n",
       "      <td>7.0</td>\n",
       "      <td>8.0</td>\n",
       "      <td>17.8</td>\n",
       "      <td>29.7</td>\n",
       "      <td>No</td>\n",
       "      <td>0.2</td>\n",
       "      <td>No</td>\n",
       "    </tr>\n",
       "  </tbody>\n",
       "</table>\n",
       "<p>5 rows × 24 columns</p>\n",
       "</div>"
      ],
      "text/plain": [
       "         Date Location  MinTemp  MaxTemp  Rainfall  Evaporation  Sunshine  \\\n",
       "0  2008-12-01   Albury     13.4     22.9       0.6          NaN       NaN   \n",
       "1  2008-12-02   Albury      7.4     25.1       0.0          NaN       NaN   \n",
       "2  2008-12-03   Albury     12.9     25.7       0.0          NaN       NaN   \n",
       "3  2008-12-04   Albury      9.2     28.0       0.0          NaN       NaN   \n",
       "4  2008-12-05   Albury     17.5     32.3       1.0          NaN       NaN   \n",
       "\n",
       "  WindGustDir  WindGustSpeed WindDir9am  ... Humidity3pm  Pressure9am  \\\n",
       "0           W           44.0          W  ...        22.0       1007.7   \n",
       "1         WNW           44.0        NNW  ...        25.0       1010.6   \n",
       "2         WSW           46.0          W  ...        30.0       1007.6   \n",
       "3          NE           24.0         SE  ...        16.0       1017.6   \n",
       "4           W           41.0        ENE  ...        33.0       1010.8   \n",
       "\n",
       "   Pressure3pm  Cloud9am  Cloud3pm  Temp9am  Temp3pm  RainToday  RISK_MM  \\\n",
       "0       1007.1       8.0       NaN     16.9     21.8         No      0.0   \n",
       "1       1007.8       NaN       NaN     17.2     24.3         No      0.0   \n",
       "2       1008.7       NaN       2.0     21.0     23.2         No      0.0   \n",
       "3       1012.8       NaN       NaN     18.1     26.5         No      1.0   \n",
       "4       1006.0       7.0       8.0     17.8     29.7         No      0.2   \n",
       "\n",
       "   RainTomorrow  \n",
       "0            No  \n",
       "1            No  \n",
       "2            No  \n",
       "3            No  \n",
       "4            No  \n",
       "\n",
       "[5 rows x 24 columns]"
      ]
     },
     "execution_count": 10,
     "metadata": {},
     "output_type": "execute_result"
    }
   ],
   "source": [
    "df = pd.read_csv('weatherAUS.csv')\n",
    "df.head()"
   ]
  },
  {
   "cell_type": "markdown",
   "id": "66d36a92-1a40-40ff-bec5-27fa5b2b681e",
   "metadata": {},
   "source": [
    "### Step 3: Initial Inspection of Data\n",
    "\n",
    "#### Let's take a quick look at the dataset's structure."
   ]
  },
  {
   "cell_type": "code",
   "execution_count": 13,
   "id": "bfcabc74-6be0-49d2-adc6-18513fe7bf75",
   "metadata": {},
   "outputs": [
    {
     "name": "stdout",
     "output_type": "stream",
     "text": [
      "Shape of the dataset: (142193, 24)\n",
      "\n",
      "Basic informationf of the dataset: \n",
      "<class 'pandas.core.frame.DataFrame'>\n",
      "RangeIndex: 142193 entries, 0 to 142192\n",
      "Data columns (total 24 columns):\n",
      " #   Column         Non-Null Count   Dtype  \n",
      "---  ------         --------------   -----  \n",
      " 0   Date           142193 non-null  object \n",
      " 1   Location       142193 non-null  object \n",
      " 2   MinTemp        141556 non-null  float64\n",
      " 3   MaxTemp        141871 non-null  float64\n",
      " 4   Rainfall       140787 non-null  float64\n",
      " 5   Evaporation    81350 non-null   float64\n",
      " 6   Sunshine       74377 non-null   float64\n",
      " 7   WindGustDir    132863 non-null  object \n",
      " 8   WindGustSpeed  132923 non-null  float64\n",
      " 9   WindDir9am     132180 non-null  object \n",
      " 10  WindDir3pm     138415 non-null  object \n",
      " 11  WindSpeed9am   140845 non-null  float64\n",
      " 12  WindSpeed3pm   139563 non-null  float64\n",
      " 13  Humidity9am    140419 non-null  float64\n",
      " 14  Humidity3pm    138583 non-null  float64\n",
      " 15  Pressure9am    128179 non-null  float64\n",
      " 16  Pressure3pm    128212 non-null  float64\n",
      " 17  Cloud9am       88536 non-null   float64\n",
      " 18  Cloud3pm       85099 non-null   float64\n",
      " 19  Temp9am        141289 non-null  float64\n",
      " 20  Temp3pm        139467 non-null  float64\n",
      " 21  RainToday      140787 non-null  object \n",
      " 22  RISK_MM        142193 non-null  float64\n",
      " 23  RainTomorrow   142193 non-null  object \n",
      "dtypes: float64(17), object(7)\n",
      "memory usage: 26.0+ MB\n",
      "None\n",
      "\n",
      "Statistical info: \n",
      "             MinTemp        MaxTemp       Rainfall   Evaporation  \\\n",
      "count  141556.000000  141871.000000  140787.000000  81350.000000   \n",
      "mean       12.186400      23.226784       2.349974      5.469824   \n",
      "std         6.403283       7.117618       8.465173      4.188537   \n",
      "min        -8.500000      -4.800000       0.000000      0.000000   \n",
      "25%         7.600000      17.900000       0.000000      2.600000   \n",
      "50%        12.000000      22.600000       0.000000      4.800000   \n",
      "75%        16.800000      28.200000       0.800000      7.400000   \n",
      "max        33.900000      48.100000     371.000000    145.000000   \n",
      "\n",
      "           Sunshine  WindGustSpeed   WindSpeed9am   WindSpeed3pm  \\\n",
      "count  74377.000000  132923.000000  140845.000000  139563.000000   \n",
      "mean       7.624853      39.984292      14.001988      18.637576   \n",
      "std        3.781525      13.588801       8.893337       8.803345   \n",
      "min        0.000000       6.000000       0.000000       0.000000   \n",
      "25%        4.900000      31.000000       7.000000      13.000000   \n",
      "50%        8.500000      39.000000      13.000000      19.000000   \n",
      "75%       10.600000      48.000000      19.000000      24.000000   \n",
      "max       14.500000     135.000000     130.000000      87.000000   \n",
      "\n",
      "         Humidity9am    Humidity3pm    Pressure9am    Pressure3pm  \\\n",
      "count  140419.000000  138583.000000  128179.000000  128212.000000   \n",
      "mean       68.843810      51.482606    1017.653758    1015.258204   \n",
      "std        19.051293      20.797772       7.105476       7.036677   \n",
      "min         0.000000       0.000000     980.500000     977.100000   \n",
      "25%        57.000000      37.000000    1012.900000    1010.400000   \n",
      "50%        70.000000      52.000000    1017.600000    1015.200000   \n",
      "75%        83.000000      66.000000    1022.400000    1020.000000   \n",
      "max       100.000000     100.000000    1041.000000    1039.600000   \n",
      "\n",
      "           Cloud9am      Cloud3pm        Temp9am        Temp3pm        RISK_MM  \n",
      "count  88536.000000  85099.000000  141289.000000  139467.000000  142193.000000  \n",
      "mean       4.437189      4.503167      16.987509      21.687235       2.360682  \n",
      "std        2.887016      2.720633       6.492838       6.937594       8.477969  \n",
      "min        0.000000      0.000000      -7.200000      -5.400000       0.000000  \n",
      "25%        1.000000      2.000000      12.300000      16.600000       0.000000  \n",
      "50%        5.000000      5.000000      16.700000      21.100000       0.000000  \n",
      "75%        7.000000      7.000000      21.600000      26.400000       0.800000  \n",
      "max        9.000000      9.000000      40.200000      46.700000     371.000000  \n",
      "\n",
      "All the columns:  Index(['Date', 'Location', 'MinTemp', 'MaxTemp', 'Rainfall', 'Evaporation',\n",
      "       'Sunshine', 'WindGustDir', 'WindGustSpeed', 'WindDir9am', 'WindDir3pm',\n",
      "       'WindSpeed9am', 'WindSpeed3pm', 'Humidity9am', 'Humidity3pm',\n",
      "       'Pressure9am', 'Pressure3pm', 'Cloud9am', 'Cloud3pm', 'Temp9am',\n",
      "       'Temp3pm', 'RainToday', 'RISK_MM', 'RainTomorrow'],\n",
      "      dtype='object')\n",
      "\n"
     ]
    }
   ],
   "source": [
    "print(\"Shape of the dataset:\", df.shape) \n",
    "print('')\n",
    "\n",
    "print(\"Basic informationf of the dataset: \")\n",
    "print(df.info())\n",
    "print('')\n",
    "\n",
    "\n",
    "print(\"Statistical info: \")\n",
    "print(df.describe())\n",
    "print('')\n",
    "\n",
    "\n",
    "print(\"All the columns: \", df.columns)\n",
    "print('')"
   ]
  },
  {
   "cell_type": "markdown",
   "id": "e1b5b3ca-eae1-4b2f-84fe-9d4690f049ef",
   "metadata": {},
   "source": [
    "## Converting Rain Labels to Numeric Format \n",
    "# ------------------------------------------------------------------------------\n",
    "Why this step?\n",
    "In our dataset, \"RainToday\" and \"RainTomorrow\" are categorical variables \n",
    "(\"Yes\" or \"No\"). Machine learning models work better with numerical data, \n",
    "so we convert:\n",
    "- \"No\" → 0 (No rainfall)\n",
    "- \"Yes\" → 1 (Rainfall occurred)\n",
    "\n",
    "### Real-world connection:\n",
    "In Jabalpur, the question \"Did it rain today?\" is crucial for farmers, travelers, \n",
    "and city dwellers alike. Similarly, in Noida, knowing if it rained today \n",
    "helps predict if roads will be waterlogged tomorrow. \n",
    "This conversion helps AI make better rainfall predictions!"
   ]
  },
  {
   "cell_type": "code",
   "execution_count": 16,
   "id": "5f589bd4-9d48-4a09-ab15-a4b469b8aa53",
   "metadata": {},
   "outputs": [
    {
     "name": "stderr",
     "output_type": "stream",
     "text": [
      "/var/folders/2f/9spd7dvj6s31wypb9395bzh80000gn/T/ipykernel_79240/3889771497.py:1: FutureWarning: A value is trying to be set on a copy of a DataFrame or Series through chained assignment using an inplace method.\n",
      "The behavior will change in pandas 3.0. This inplace method will never work because the intermediate object on which we are setting values always behaves as a copy.\n",
      "\n",
      "For example, when doing 'df[col].method(value, inplace=True)', try using 'df.method({col: value}, inplace=True)' or df[col] = df[col].method(value) instead, to perform the operation inplace on the original object.\n",
      "\n",
      "\n",
      "  df['RainToday'].replace({'No': 0, 'Yes': 1},inplace = True)\n",
      "/var/folders/2f/9spd7dvj6s31wypb9395bzh80000gn/T/ipykernel_79240/3889771497.py:1: FutureWarning: Downcasting behavior in `replace` is deprecated and will be removed in a future version. To retain the old behavior, explicitly call `result.infer_objects(copy=False)`. To opt-in to the future behavior, set `pd.set_option('future.no_silent_downcasting', True)`\n",
      "  df['RainToday'].replace({'No': 0, 'Yes': 1},inplace = True)\n",
      "/var/folders/2f/9spd7dvj6s31wypb9395bzh80000gn/T/ipykernel_79240/3889771497.py:2: FutureWarning: A value is trying to be set on a copy of a DataFrame or Series through chained assignment using an inplace method.\n",
      "The behavior will change in pandas 3.0. This inplace method will never work because the intermediate object on which we are setting values always behaves as a copy.\n",
      "\n",
      "For example, when doing 'df[col].method(value, inplace=True)', try using 'df.method({col: value}, inplace=True)' or df[col] = df[col].method(value) instead, to perform the operation inplace on the original object.\n",
      "\n",
      "\n",
      "  df['RainTomorrow'].replace({'No': 0, 'Yes': 1},inplace = True)\n",
      "/var/folders/2f/9spd7dvj6s31wypb9395bzh80000gn/T/ipykernel_79240/3889771497.py:2: FutureWarning: Downcasting behavior in `replace` is deprecated and will be removed in a future version. To retain the old behavior, explicitly call `result.infer_objects(copy=False)`. To opt-in to the future behavior, set `pd.set_option('future.no_silent_downcasting', True)`\n",
      "  df['RainTomorrow'].replace({'No': 0, 'Yes': 1},inplace = True)\n"
     ]
    }
   ],
   "source": [
    "df['RainToday'].replace({'No': 0, 'Yes': 1},inplace = True)\n",
    "df['RainTomorrow'].replace({'No': 0, 'Yes': 1},inplace = True)"
   ]
  },
  {
   "cell_type": "markdown",
   "id": "818e26f1-5538-4ff6-b036-50443319ddba",
   "metadata": {},
   "source": [
    "# Step2: Data Visualization: Understanding Rainfall Distribution \n"
   ]
  },
  {
   "cell_type": "markdown",
   "id": "cba3c04d-da21-40e3-bb17-2aee69c6d6ad",
   "metadata": {},
   "source": [
    "### Step 1: Importing Visualization Libraries"
   ]
  },
  {
   "cell_type": "code",
   "execution_count": 20,
   "id": "bb22fd05-0b88-4fd8-9f22-1c74756bd08d",
   "metadata": {},
   "outputs": [],
   "source": [
    "import matplotlib.pyplot as plt\n",
    "import seaborn as sns"
   ]
  },
  {
   "cell_type": "code",
   "execution_count": 24,
   "id": "3f454ce0-c05d-45a2-8f05-ddae248f33e0",
   "metadata": {},
   "outputs": [
    {
     "data": {
      "image/png": "[encoded data removed]",
      "text/plain": [
       "<Figure size 800x500 with 1 Axes>"
      ]
     },
     "metadata": {},
     "output_type": "display_data"
    }
   ],
   "source": [
    "fig = plt.figure(figsize = (8,5))\n",
    "df.RainTomorrow.value_counts(normalize = True).plot(kind='bar', color= ['skyblue','navy'], alpha = 0.9, rot=0)\n",
    "plt.title('RainTomorrow Indicator No(0) and Yes(1) in the Imbalanced Dataset')\n",
    "plt.show()"
   ]
  },
  {
   "cell_type": "markdown",
   "id": "9393fbc2-2a60-419c-8f49-0f13dfc24c4e",
   "metadata": {},
   "source": [
    "# Step3: Dealing with Data Imbalance\n",
    "\n",
    "If we train our model on this raw data, it will be biased towards predicting 'No Rain' \n",
    "because those examples dominate. This is like preparing for an exam where 90% of the syllabus \n",
    "is from one subject—your preparation won’t be well-rounded.\n",
    "\n",
    "The solution? Oversampling! We generate more 'Yes Rain' samples by resampling existing ones \n",
    "to create a balanced dataset."
   ]
  },
  {
   "cell_type": "markdown",
   "id": "7321863a-b4cb-4b47-be5d-23cbe9c3fcba",
   "metadata": {},
   "source": [
    "### Step1: Importing needed library"
   ]
  },
  {
   "cell_type": "code",
   "execution_count": 30,
   "id": "f4c14125-de2b-4a0a-af99-f7f47bc9ea54",
   "metadata": {},
   "outputs": [],
   "source": [
    "from sklearn.utils import resample"
   ]
  },
  {
   "cell_type": "markdown",
   "id": "43126b94-3df5-4a4b-b3ca-996339f9720f",
   "metadata": {},
   "source": [
    "### Step2: Separating Majority (No Rain) and Minority (Yes Rain) Classes"
   ]
  },
  {
   "cell_type": "code",
   "execution_count": 40,
   "id": "88500706-5336-4451-83fe-fc41f24279e1",
   "metadata": {},
   "outputs": [],
   "source": [
    "no = df[df.RainTomorrow == 0]\n",
    "yes = df[df.RainTomorrow == 1]"
   ]
  },
  {
   "cell_type": "markdown",
   "id": "03f020fc-7c4d-45c1-9dd6-d4e3d9d9b5bc",
   "metadata": {},
   "source": [
    "### Step 3: Oversampling - Creating Synthetic Samples for 'Yes Rain' Class\n",
    "We randomly resample the 'Yes Rain' class to match the number of 'No Rain' samples.\n"
   ]
  },
  {
   "cell_type": "code",
   "execution_count": 43,
   "id": "d6e249ea-ccbb-4ff0-9ee2-e3e3c3007c99",
   "metadata": {},
   "outputs": [],
   "source": [
    "yes_oversampled = resample(yes, \n",
    "                           replace=True,  \n",
    "                           n_samples=len(no),  \n",
    "                           random_state=123)  \n"
   ]
  },
  {
   "cell_type": "markdown",
   "id": "b7e60d73-1b3f-4283-a24b-fb659355958a",
   "metadata": {},
   "source": [
    "### Step 4: Merging the Balanced Dataset\n"
   ]
  },
  {
   "cell_type": "code",
   "execution_count": 46,
   "id": "17b5f822-7bb3-45f9-9645-0db5bda7d745",
   "metadata": {},
   "outputs": [],
   "source": [
    "oversampled = pd.concat([no, yes_oversampled])  \n"
   ]
  },
  {
   "cell_type": "markdown",
   "id": "c6b774a4-199c-407d-9c26-8d5fa200af63",
   "metadata": {},
   "source": [
    "### Step 4: Visualizing the New Class Distribution"
   ]
  },
  {
   "cell_type": "code",
   "execution_count": 51,
   "id": "e1dc3374-0322-4fef-bec2-dbd5e3a1201d",
   "metadata": {},
   "outputs": [
    {
     "data": {
      "image/png": "[encoded data removed]",
      "text/plain": [
       "<Figure size 800x500 with 1 Axes>"
      ]
     },
     "metadata": {},
     "output_type": "display_data"
    }
   ],
   "source": [
    "fig = plt.figure(figsize=(8,5))\n",
    "oversampled.RainTomorrow.value_counts(normalize=True).plot(kind='bar', \n",
    "                                                            color=['skyblue', 'navy'], \n",
    "                                                            alpha=0.9, \n",
    "                                                            rot=0)\n",
    "plt.title('RainTomorrow Indicator No(0) and Yes(1) after Oversampling (Balanced Dataset)')\n",
    "plt.show()"
   ]
  },
  {
   "cell_type": "code",
   "execution_count": null,
   "id": "4d641ad1-6b27-483d-8edd-bdc7c43b39e2",
   "metadata": {},
   "outputs": [],
   "source": []
  }
 ],
 "metadata": {
  "kernelspec": {
   "display_name": "Python 3 (ipykernel)",
   "language": "python",
   "name": "python3"
  },
  "language_info": {
   "codemirror_mode": {
    "name": "ipython",
    "version": 3
   },
   "file_extension": ".py",
   "mimetype": "text/x-python",
   "name": "python",
   "nbconvert_exporter": "python",
   "pygments_lexer": "ipython3",
   "version": "3.12.4"
  }
 },
 "nbformat": 4,
 "nbformat_minor": 5
}
